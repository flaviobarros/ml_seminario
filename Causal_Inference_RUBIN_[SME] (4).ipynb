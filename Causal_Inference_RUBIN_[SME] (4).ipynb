{
 "cells": [
  {
   "cell_type": "markdown",
   "metadata": {
    "id": "O9dv1utSVkzk"
   },
   "source": [
    "# **Aprendizado de Máquina Estatístico**\n",
    "## **Seminário - Inferência Causal [Potential Outcomes, Rubin]**\n",
    "#### Integrantes: \n",
    "\n",
    "- Daniel Shinoda Pascoal\n",
    "- Flavio Margarito Martins de Barros\n",
    "- Gabriel Tupinamba da Cunha Leandro"
   ]
  },
  {
   "cell_type": "markdown",
   "metadata": {
    "id": "P19YTp5lYcRb"
   },
   "source": [
    "## Conteúdo:\n",
    "\n",
    "- 1 Introdução\n",
    "- 2 O Modelo Causal de Rubin\n",
    "- 3 Atribuição aleatória\n",
    "- 4 Analise de Regressão de experimentos\n",
    "- 5 Estudo de caso\n",
    "- 6 Conclusão"
   ]
  },
  {
   "cell_type": "markdown",
   "metadata": {
    "id": "Y6Z0omy8bIQw"
   },
   "source": [
    "## **Introdução**"
   ]
  },
  {
   "cell_type": "markdown",
   "metadata": {
    "id": "5-LoY8RJbQ4J"
   },
   "source": [
    "**\"Correlação não é igual a causalidade\"**\n",
    "\n",
    "<br>\n",
    "\n",
    "Essa frase é um mantra na comunidade de estatística e ciência de dados, ela é repetida diversas vezes para nos manter longe da armadilha que é **confundir correlação com causalidade**. A palavra correlação, enquanto tem um significado definido em estatística é usado de forma coloquial na linguagem cotidiana significando, muitas vezes, relação. Entretando a correlação é um tipo especial de \"relação\" uma vez que usualmente, quando esse termo é utilizado, quer se dizer que há uma relação **linear**, assim como na correlação de Pearson. Mas, além de existirem outros tipos de correlações na estatística, como a correlação bisserial por exemplo, o fato de existir uma correlação diferente de zero **não implica** que há uma **relação de fato** entre as variáveis, tampouco que essa relação seja linear. O oposto também: o fato de uma correlação **ser nula não implica que não haja relação entre as variáveis**, uma vez que esta pode ser não linear. A maioria modelos de machine learning utilizados são ótimos para capturar a correlações presente nos dados, mas não nos auxiliam em interpretar o que causa os padrões observados, o que limita nossa capacidade de decisão. \n",
    "\n",
    "<br>\n",
    "\n",
    "Dentro do mundo dos negócios é muito comum perguntas em que se deseja saber se determinado anúncio de marketing trouxe mais vendas na compania, muitas vezes um aumento das vendas pode estar mascarado por uma queda de preço ou de estoque no mercado. Esse problema também é muito comum em outras áreas como medicina onde precisamos entender se determinado tratamento realmente teve o efeito desejado ou na economia onde queremos saber se determinada politica trouxe efeitos positivos na renda dos índividuos. Não basta ter um modelo que seja capaz de produzir ótimas prediçõe, é necessário que, de alguma forma, entendamos as relações causais e sejamos capazes de compreender quais são os mecanismos geradores dos dados.\n",
    "\n",
    "Para ajudar a entender os efeitos causais algumas metodologias tem sido utilizadas na literatura. Nesse documento iremos nos focar na abordagem **\"Potential outcomes\"** de **Donald Rubin**."
   ]
  },
  {
   "cell_type": "markdown",
   "metadata": {
    "id": "C39-H-XXtr2k"
   },
   "source": [
    "## **O Modelo Causal de Rubin**\n",
    "\n",
    "Imagine a seguinte situação, um determinado indivíduo terminou sua graduação, e quando chegou aos seus quarenta anos possuia uma alta remuneração em comparação com a média da população. Caso esse mesmo indivíduo não tivesse terminado a graduação ele teria uma remuneração menor? Não temos como saber a resposta para essa pergunta pois teríamos que voltar ao passado para descobrir o que teria acontecido caso essa mesma pessoa não tivesse concluído essa graduação. Ainda assim, mesmo que fosse possível voltar no tempo e submeter esse indivíduo a um \"tratamento\" diferente, ainda haveria a possibilidade de o resultado ser fruto de situações aleatórias que poderia contribuir ou dificultar a vida desse indivíduo, tal que para realizar um experimento como esse deveríamos repetílo com um número significativo de pessoas. Acreditamos que é óbvio que uma abordagem como essa é impossível na prática, tal que temos que utilizar dados observacionais e a partir deles, utilizando algum método, tentar descobrir quais são as relações causais.\n",
    "\n",
    "<br>\n",
    "\n",
    "No cerne dessa situação encontramos o **\"Problema Fundamental da Inferência Causal\"**, que reside na impossibilidade de observarmos um individuo \"com\" e \"sem\" tratamento ao mesmo tempo. Por isso o **Modelo Causal de Rubin** , também conhecido como **\"Potential Outcomes Model\"** (Modelo de resultados potenciais) lida com a idéia de \"Resultados Potenciais\".\n",
    "\n",
    "<br>\n",
    "\n",
    "### Notação\n",
    "\n",
    "Para contextualizar os conceitos apresentados vamos utilizar o dataset do artigo  de **Robert Lalonde** , \"Evaluating the Econometric Evaluations of Training Programs\", American Economic Review, Vol. 76, pp. 604-620, como estudo de caso, nesse estudo ele avalia o efeito de determinado treinamento no salário de dois grupos de indivíduos.\n",
    "\n",
    "<br>\n",
    "\n",
    "Vamos definir formalmente o conceito de \"potential outcomes\", vamos denotar como $\\mathbf{T}$ o efeito do tratamento, que no nosso caso será se o índivíduo teve treinamento ou não, nesse caso $\\mathbf{T}$ será uma variável binária $\\mathbf{T} \\in \\text{{1,0}}$.\n",
    "\n",
    "<br>\n",
    "Potential Outcomes: \n",
    "\n",
    "$\n",
    "Y_{ti}=\\begin{cases}\n",
    "t=1 \\ \\text{se o individuo i recebeu o tratamento}\\\\\n",
    "t= 0 \\ \\text{caso contrario}\\\\\n",
    "\\end{cases}\n",
    "$\n",
    "\n",
    "Ou de maneira mais geral : $Y_{0i} + (Y_{1i} - Y_{0i})T_i$\n",
    "\n",
    "<br>\n",
    "\n",
    "Dessa forma supomos que o individuo i tivesse recebido o treinamento, nesse caso teriamos o resultado potencial $Y_{1i}$ que representa sua remuneração após o tratamento, já $Y_{0i}$ seria o resultado potencial caso esse mesmo indivíduo não tivesse recebido o treinamento, que nesse caso seria um \"salário imaginário\" uma vez que não temos como saber qual seria o verdadeiro resultado, também podemos chamar $Y_{0i}$ de **Contrafactual**.\n",
    "\n",
    "<br>\n",
    "\n",
    "### Efeito Médio do Tratamento \n",
    "\n",
    "<br>\n",
    "\n",
    "Essa notação é importante pois com ela podemos estabelecer que $Y_{1i} - Y_{0i}$  seria o efeito causado pelo treinamento no indivíduo i.\n",
    "\n",
    "Dessa forma definiremos o **Efeito Médio do Tratamento (ATE)** (ATE - Average Treatment Effect) dos indivíduos como:\n",
    "\n",
    "- \\\\(ATE = E[Y_{1i} - Y_{0i}]\\\\)\n",
    "\n",
    "\n",
    "Também vamos definir como **Efeito Médio do Tratamento nos Tratados (ATT)** (ATT - Average Treatment Effect on the treated) o efeito médio do tratamento condicionado apenas nos indivíduos que receberam treinamento. \n",
    "\n",
    "- \\\\(ATT = E[Y_{1i} - Y_{0i} | T=1]\\\\)\n",
    "\n",
    "<br>\n",
    "\n",
    "## **Atribuição aleatória e o viés de seleção**\n",
    "\n",
    "É claro que as equações acima são apenas hipotéticas, não temos como obter esses resultados pois não podemos voltar no passado, uma suposição ingênua seria estimar o efeito causado pelo treinamento subtraindo o salario dos individuos que receberam treinamento daqueles que não receberam treinamento (grupo controle), umas vez que o único resultado potencial que de fato temos acesso (observamos o efeito) é $E[Y_{1i}|T=1]$ e $E[Y_{0i}|T=0]$ em outras palavras seria assumir $E[Y_{1i}|T=1] - E[Y_{0i}|T=0]$ como o efeito causado pelo treinamento.\n",
    "\n",
    "<br>\n",
    "\n",
    "A demonstração abaixo nos mostra o problema dessa abordagem ingênua, se somarmos e subtrairmos o contrafactual $E[Y_{0i}|T=1]$ na nossa equação, teremos:\n",
    "\n",
    "$\n",
    "E[Y_{1i}|T=1] - E[Y_{0i}|T=0] = E[Y_{1i}|T=1] - E[Y_{0i}|T=0] +E[Y_{0i}|T=1] - E[Y_{0i}|T=1]\n",
    "$\n",
    "\n",
    "$\n",
    "E[Y_{1i}|T=1] - E[Y_{0i}|T=0] = \\underbrace{E[Y_{1i} - Y_{0i}|T=1]}_{ATT} + \\underbrace{\\{ E[Y_{0i}|T=1] - E[Y_{0i}|T=0] \\}}_{Viés}\n",
    "$\n",
    "\n",
    "Ou seja subtrair o resultado observado do grupo tratado com o resultado observado do grupo não tratado é igual ao efeito médio do tratamento nos tratados, que queremos descobrir, mais o **viés de seleção**. O viés de seleção ocorre quando há um mecanismo que seleciona aqueles indivíduos ao final de um processo. Assim, ao analisarmos a população de \"sobreviventes\" ela pode não ser mais representativa da população original.\n",
    "\n",
    "No nosso exemplo um possivel viés de seleção seria selecionar para o grupo que receberá o treinamento ($T=1$), grupos que naturalmente já teriam um salario melhor mesmo sem treinamento, por exemplo por terem ido a faculdade e no grupo sem treinamento ($T=0$), indivíduos que não completaram a faculdade.\n",
    "\n",
    "<br>\n",
    "\n",
    "### Atribuição aleatória\n",
    "\n",
    "A grande sacada aqui é que caso o viés de seleção seja zero ou próximo de zero, a difença do efeito do grupo com treinamento e sem treinamento de fato será igual ao efeito médio do tratamento no grupo tratado (ATT).\n",
    "\n",
    "Dessa maneira selecionando aleatoriamente os dois grupos de indivíduos, o viés seria reduzido a zero e com isso:\n",
    "\n",
    "$\n",
    "E[Y_{1i}|T=1] - E[Y_{0i}|T=0] = E[Y_{1i} - Y_{0i}|T=1] = ATT\n",
    "$\n",
    "\n",
    "<br>\n",
    "\n",
    "## **Análise de Regressão dos Experimentos**\n",
    "\n",
    "Nós podemos remodelar a nossa equação de potential outcomes $Y_{0i} + (Y_{1i} - Y_{0i})T_i$ como um problema de regressão, somando e subtraindo $E[Y_{0i}]$ temos:\n",
    "\n",
    "$$\n",
    "Y_i = \\underbrace{\\alpha}_{E[Y_{0i}]} + \\underbrace{\\rho}_{Y_{1i} - Y_{0i}}T_i + \\underbrace{\\eta}_{Y_{0i}-E[Y_{0i}]}\n",
    "$$\n",
    "\n",
    "Aplicando o valor esperado para os grupos tratamento e controle:\n",
    "\n",
    "$ E[Y_i |T_i = 1] = \\alpha + \\rho + E[\\eta_i|T_i=1]$\n",
    "\n",
    "$ E[Y_i |T_i = 0] = \\alpha + E[\\eta_i|T_i=0]$\n",
    "\n",
    "Então:\n",
    "\n",
    "$\n",
    "E[Y_{i}|T=1] - E[Y_{i}|T=0] = \\rho + \\underbrace{\\{ E[\\eta_i|T=1] - E[\\eta_i|T=0] \\}}_{Viés}\n",
    "$\n",
    "\n",
    "Dessa maneira se a atribuição for aleatória, eliminamos o viés de seleção e teremos: \n",
    "\n",
    "$E[Y_{i}|T=1] - E[Y_{i}|T=0] = \\rho $\n",
    "\n",
    "Isso nos fornece uma valiosa ferramenta, uma vez que ao calcular uma simples regressão linear nosso coeficiente $\\rho$ será igual ao efeito médio do tratamento."
   ]
  },
  {
   "cell_type": "markdown",
   "metadata": {
    "id": "l3-_VBns4W0j"
   },
   "source": [
    "## **Estudo de Caso**\n",
    "\n",
    "Como mencionado acima, esse dataset foi utilizado pelo economista Robert Lalonde, onde ele analisou o efeito de determinado treinamento na renda de um grupo de individuos, no ano de 1975 e em 1978 após o treinamento, parte do grupo recebeu o treinamento (Tratados) e o outro não (Controle).\n",
    "\n",
    "O dataset é composto pelas covariáveis: \n",
    "\n",
    "- 'treatment_indicator', 1 se tratado 0 se não\n",
    "- 'age', idade\n",
    "- 'education', anos de escolaridade\n",
    "- 'Black', 1 se negro e 0 se não\n",
    "- 'Hispanic', 1 se hispanico e 0 se não\n",
    "- 'Married', 1 se casado, 0 se não\n",
    "- 'nodegree', 1 se cursou ensino superior, 0 se não\n",
    "- 'RE74', renda em 1974\n",
    "- 'RE75', renda em 1975\n",
    "- 'RE78', renda em 1978\n",
    "\n"
   ]
  },
  {
   "cell_type": "code",
   "execution_count": 15,
   "metadata": {
    "colab": {
     "base_uri": "https://localhost:8080/"
    },
    "id": "RsTi673_VQ-e",
    "outputId": "dda53ac9-f119-49b7-c8c3-7f4c6138e2fa"
   },
   "outputs": [
    {
     "name": "stdout",
     "output_type": "stream",
     "text": [
      "Drive already mounted at /content/drive; to attempt to forcibly remount, call drive.mount(\"/content/drive\", force_remount=True).\n"
     ]
    },
    {
     "name": "stderr",
     "output_type": "stream",
     "text": [
      "/usr/local/lib/python3.7/dist-packages/ipykernel_launcher.py:16: ParserWarning: Falling back to the 'python' engine because the 'c' engine does not support regex separators (separators > 1 char and different from '\\s+' are interpreted as regex); you can avoid this warning by specifying engine='python'.\n",
      "  app.launch_new_instance()\n",
      "/usr/local/lib/python3.7/dist-packages/ipykernel_launcher.py:19: ParserWarning: Falling back to the 'python' engine because the 'c' engine does not support regex separators (separators > 1 char and different from '\\s+' are interpreted as regex); you can avoid this warning by specifying engine='python'.\n"
     ]
    }
   ],
   "source": [
    "import numpy as np\n",
    "import pandas as pd\n",
    "\n",
    "from google.colab import drive\n",
    "drive.mount('/content/drive')\n",
    "#df = pd.read_csv(\"TMDb_updated.CSV\")\n",
    "\n",
    "#df_control = pd.read_csv(\"/content/drive/MyDrive/Colab Notebooks/Aprend Maq Est/nsw_control.txt\", sep=\"  \", header=None)\n",
    "#df_control.columns= ['treatment_indicator','age','education','Black','Hispanic','Married','nodegree','RE75','RE78']\n",
    "\n",
    "#df_treated = pd.read_csv(\"/content/drive/MyDrive/Colab Notebooks/Aprend Maq Est/nsw_treated.txt\", sep=\"  \", header=None)\n",
    "#df_treated.columns= ['treatment_indicator','age','education','Black','Hispanic','Married','nodegree','RE75','RE78']\n",
    "\n",
    "#df = pd.concat([df_control, df_treated])\n",
    "\n",
    "df_control = pd.read_csv(\"/content/drive/MyDrive/Colab Notebooks/Aprend Maq Est/nswre74_control.txt\", sep=\"  \", header=None)\n",
    "df_control.columns= ['treatment_indicator','age','education','Black','Hispanic','Married','nodegree','RE74','RE75','RE78']\n",
    "\n",
    "df_treated = pd.read_csv(\"/content/drive/MyDrive/Colab Notebooks/Aprend Maq Est/nswre74_treated.txt\", sep=\"  \", header=None)\n",
    "df_treated.columns= ['treatment_indicator','age','education','Black','Hispanic','Married','nodegree','RE74','RE75','RE78']\n",
    "df = pd.concat([df_control, df_treated])\n",
    "\n"
   ]
  },
  {
   "cell_type": "code",
   "execution_count": 16,
   "metadata": {
    "colab": {
     "base_uri": "https://localhost:8080/",
     "height": 142
    },
    "id": "4oVlf1CI7AEH",
    "outputId": "7baee26c-fe0d-434c-f03e-7c3cbdf3ec4e"
   },
   "outputs": [
    {
     "data": {
      "text/html": [
       "<div>\n",
       "<style scoped>\n",
       "    .dataframe tbody tr th:only-of-type {\n",
       "        vertical-align: middle;\n",
       "    }\n",
       "\n",
       "    .dataframe tbody tr th {\n",
       "        vertical-align: top;\n",
       "    }\n",
       "\n",
       "    .dataframe thead th {\n",
       "        text-align: right;\n",
       "    }\n",
       "</style>\n",
       "<table border=\"1\" class=\"dataframe\">\n",
       "  <thead>\n",
       "    <tr style=\"text-align: right;\">\n",
       "      <th></th>\n",
       "      <th>median</th>\n",
       "      <th>mean</th>\n",
       "    </tr>\n",
       "    <tr>\n",
       "      <th>treatment_indicator</th>\n",
       "      <th></th>\n",
       "      <th></th>\n",
       "    </tr>\n",
       "  </thead>\n",
       "  <tbody>\n",
       "    <tr>\n",
       "      <th>0.0</th>\n",
       "      <td>3138.7955</td>\n",
       "      <td>4554.801126</td>\n",
       "    </tr>\n",
       "    <tr>\n",
       "      <th>1.0</th>\n",
       "      <td>4232.3090</td>\n",
       "      <td>6349.143530</td>\n",
       "    </tr>\n",
       "  </tbody>\n",
       "</table>\n",
       "</div>"
      ],
      "text/plain": [
       "                        median         mean\n",
       "treatment_indicator                        \n",
       "0.0                  3138.7955  4554.801126\n",
       "1.0                  4232.3090  6349.143530"
      ]
     },
     "execution_count": 16,
     "metadata": {},
     "output_type": "execute_result"
    }
   ],
   "source": [
    "df.groupby('treatment_indicator')['RE78'].agg(['median','mean'])"
   ]
  },
  {
   "cell_type": "markdown",
   "metadata": {
    "id": "AVbdayu7FK26"
   },
   "source": [
    "Como podemos ver, apenas agregando os dados em grupo controle e de tratamento e calculando sua média, aparentemente o grupo que recebeu o tratamento teve uma renda $1795 maior em 1978 do que o grupo que não foi tratado."
   ]
  },
  {
   "cell_type": "markdown",
   "metadata": {
    "id": "tOiAgRgqw8JL"
   },
   "source": [
    "### Regressão Linear\n",
    "\n",
    "Vamos inicialmente assumir que o estudo foi feito de forma controlada e randomizada e fazer o calculo de regressão linear. Nesse estudo iremos usar a biblioteca em python **Causal Inference** que conta com um estimador de regressão linear via minimos quadrados."
   ]
  },
  {
   "cell_type": "code",
   "execution_count": 7,
   "metadata": {
    "colab": {
     "base_uri": "https://localhost:8080/"
    },
    "id": "N5KhSXuuyMQF",
    "outputId": "3a04fe52-f4c3-43f9-c7cc-161fffae4774"
   },
   "outputs": [
    {
     "name": "stdout",
     "output_type": "stream",
     "text": [
      "Requirement already satisfied: causalinference in /usr/local/lib/python3.7/dist-packages (0.1.3)\n"
     ]
    }
   ],
   "source": [
    "!pip install causalinference "
   ]
  },
  {
   "cell_type": "code",
   "execution_count": 17,
   "metadata": {
    "colab": {
     "base_uri": "https://localhost:8080/"
    },
    "id": "Az0FKMFNzybI",
    "outputId": "4bc737eb-01d0-42d4-909d-4b407d61cad7"
   },
   "outputs": [
    {
     "name": "stdout",
     "output_type": "stream",
     "text": [
      "\n",
      "Treatment Effect Estimates: OLS\n",
      "\n",
      "                     Est.       S.e.          z      P>|z|      [95% Conf. int.]\n",
      "--------------------------------------------------------------------------------\n",
      "           ATE   1636.278    667.157      2.453      0.014    328.649   2943.906\n",
      "\n"
     ]
    },
    {
     "name": "stderr",
     "output_type": "stream",
     "text": [
      "/usr/local/lib/python3.7/dist-packages/causalinference/estimators/ols.py:21: FutureWarning: `rcond` parameter will change to the default of machine precision times ``max(M, N)`` where M and N are the input matrix dimensions.\n",
      "To use the future default and silence this warning we advise to pass `rcond=None`, to keep using the old, explicitly pass `rcond=-1`.\n",
      "  olscoef = np.linalg.lstsq(Z, Y)[0]\n"
     ]
    }
   ],
   "source": [
    "from causalinference import CausalModel\n",
    "\n",
    "covariaveis = ['age','education','Black','Hispanic','Married','nodegree','RE75']\n",
    "\n",
    "causal = CausalModel(\n",
    "    Y=df['RE78'].values, \n",
    "    D=df['treatment_indicator'].values, \n",
    "    X=df[covariaveis].values)\n",
    "\n",
    "causal.est_via_ols(adj=1)\n",
    "print(causal.estimates)\n"
   ]
  },
  {
   "cell_type": "markdown",
   "metadata": {
    "id": "mEnPP-a131fJ"
   },
   "source": [
    "Nossa regressão linear mostra que nosso ATE foi de $\\$1.636,00$, um pouco inferior ao resultado obtido simplesmente calculando a diferença das médias. O grande ganho dessa abordagem em relação a outra é que ela nos fornece o intervalo de confiança 95% de para o efeito médio do tratamento. O intervalo está entre $\\$328,00$ e $\\$2.943,00$, um intervalo bem grande. A grande questão aqui é que esse não foi um experimento bem controlado como de fato vamos verificar nas visualizações de balanceamento abaixo."
   ]
  },
  {
   "cell_type": "markdown",
   "metadata": {
    "id": "WHS3wkZY52kC"
   },
   "source": [
    "### EDA - Balanceamento do dataset"
   ]
  },
  {
   "cell_type": "code",
   "execution_count": 18,
   "metadata": {
    "colab": {
     "base_uri": "https://localhost:8080/"
    },
    "id": "QGV-bXAfHqWq",
    "outputId": "8144975a-655a-4a31-997d-e4780c1aef56"
   },
   "outputs": [
    {
     "data": {
      "text/plain": [
       "treatment_indicator\n",
       "0.0    260\n",
       "1.0    185\n",
       "Name: RE78, dtype: int64"
      ]
     },
     "execution_count": 18,
     "metadata": {},
     "output_type": "execute_result"
    }
   ],
   "source": [
    "df.groupby('treatment_indicator')['RE78'].count()"
   ]
  },
  {
   "cell_type": "markdown",
   "metadata": {
    "id": "DT0SobXH597e"
   },
   "source": [
    "O grupo tratado é menor que o grupo controle."
   ]
  },
  {
   "cell_type": "code",
   "execution_count": 19,
   "metadata": {
    "colab": {
     "base_uri": "https://localhost:8080/",
     "height": 242
    },
    "id": "3J03qjLVEyKC",
    "outputId": "2d2f3945-16ec-4163-f823-51e2c0b7be26"
   },
   "outputs": [
    {
     "data": {
      "text/plain": [
       "<seaborn.axisgrid.FacetGrid at 0x7f16c113e6d0>"
      ]
     },
     "execution_count": 19,
     "metadata": {},
     "output_type": "execute_result"
    },
    {
     "data": {
      "image/png": "[encoded data removed]",
      "text/plain": [
       "<Figure size 971x216 with 1 Axes>"
      ]
     },
     "metadata": {
      "needs_background": "light"
     },
     "output_type": "display_data"
    }
   ],
   "source": [
    "import matplotlib.pyplot as plt\n",
    "import seaborn as sns\n",
    "\n",
    "a = sns.FacetGrid( df, hue = 'treatment_indicator', aspect=4)\n",
    "a.map(sns.kdeplot, 'RE78', shade= True )\n",
    "a.set(xlim=(0 , df['RE78'].max()))\n",
    "a.add_legend()"
   ]
  },
  {
   "cell_type": "code",
   "execution_count": 24,
   "metadata": {
    "colab": {
     "base_uri": "https://localhost:8080/",
     "height": 242
    },
    "id": "aUNHgZaPI0nq",
    "outputId": "b5ca8c4b-a493-4c69-a951-e2428fd3713f"
   },
   "outputs": [
    {
     "data": {
      "text/plain": [
       "<seaborn.axisgrid.FacetGrid at 0x7f16c0ed2250>"
      ]
     },
     "execution_count": 24,
     "metadata": {},
     "output_type": "execute_result"
    },
    {
     "data": {
      "image/png": "[encoded data removed]",
      "text/plain": [
       "<Figure size 971x216 with 1 Axes>"
      ]
     },
     "metadata": {
      "needs_background": "light"
     },
     "output_type": "display_data"
    }
   ],
   "source": [
    "a = sns.FacetGrid( df, hue = 'treatment_indicator', aspect=4)\n",
    "a.map(sns.kdeplot, 'RE74', shade= True )\n",
    "a.set(xlim=(0 , df['RE74'].max()))\n",
    "a.add_legend()"
   ]
  },
  {
   "cell_type": "markdown",
   "metadata": {
    "id": "rEcXCaCvH-4R"
   },
   "source": [
    "Como podemos ver, esse dataset não está balanceado, temos muito mais pessoas sem tratamento. \n",
    "\n",
    "No ponto de partida do estudo, a renda dos dois grupos de fato são parecidas. A questão é, saindo do campo da renda, será que as outras covariáveis também foram controladas? Por exemplo, será que o grupo tratado não possui uma maior concentração de individuos com maior escolaridade e consequentemente esses performariam melhor mesmo sem o treinamento?"
   ]
  },
  {
   "cell_type": "code",
   "execution_count": 21,
   "metadata": {
    "colab": {
     "base_uri": "https://localhost:8080/",
     "height": 242
    },
    "id": "s2dc4hOeEyM0",
    "outputId": "73bd1f94-7405-44b5-8cb0-ef6b49cab2f9"
   },
   "outputs": [
    {
     "data": {
      "text/plain": [
       "<seaborn.axisgrid.FacetGrid at 0x7f16c0f470d0>"
      ]
     },
     "execution_count": 21,
     "metadata": {},
     "output_type": "execute_result"
    },
    {
     "data": {
      "image/png": "[encoded data removed]",
      "text/plain": [
       "<Figure size 971x216 with 1 Axes>"
      ]
     },
     "metadata": {
      "needs_background": "light"
     },
     "output_type": "display_data"
    }
   ],
   "source": [
    "a = sns.FacetGrid( df, hue = 'treatment_indicator', aspect=4)\n",
    "a.map(sns.kdeplot, 'education', shade= True )\n",
    "a.set(xlim=(0 , df['education'].max()))\n",
    "a.add_legend()"
   ]
  },
  {
   "cell_type": "code",
   "execution_count": 22,
   "metadata": {
    "colab": {
     "base_uri": "https://localhost:8080/",
     "height": 242
    },
    "id": "LhG9CsPk7QE7",
    "outputId": "2f9472a9-4cfb-4d4e-852e-0958c590887f"
   },
   "outputs": [
    {
     "data": {
      "text/plain": [
       "<seaborn.axisgrid.FacetGrid at 0x7f16c0ecc750>"
      ]
     },
     "execution_count": 22,
     "metadata": {},
     "output_type": "execute_result"
    },
    {
     "data": {
      "image/png": "[encoded data removed]",
      "text/plain": [
       "<Figure size 971x216 with 1 Axes>"
      ]
     },
     "metadata": {
      "needs_background": "light"
     },
     "output_type": "display_data"
    }
   ],
   "source": [
    "a = sns.FacetGrid( df, hue = 'treatment_indicator', aspect=4)\n",
    "a.map(sns.kdeplot, 'age', shade= True )\n",
    "a.set(xlim=(0 , df['age'].max()))\n",
    "a.add_legend()"
   ]
  },
  {
   "cell_type": "markdown",
   "metadata": {
    "id": "EFOaYMD-KQ47"
   },
   "source": [
    "Como podemos ver o grupo tratado possui em média maior ano de educação do que aqueles do grupo controle além de uma maior idade. Poderiamos argumentar que o treinamento no grupo controle não faz diferença uma vez que no grupo tratado temos individuos com maior educação e mais velhos."
   ]
  },
  {
   "cell_type": "markdown",
   "metadata": {
    "id": "71XE8xdtwQB7"
   },
   "source": [
    "### Controlando Covariáveis\n",
    "\n",
    "O principal desafio na inferência causal é controlar os **\"confounders\" (confundidores)**, em muitas situações como essa, só temos os dados observacionais e não temos como fazer um novo experimento com um melhor balanceamento dos individuos.\n",
    "\n",
    "A ideia aqui é controlar os confundidores, e assumir que a dependencia entre o resultado esperado e o tratamento são dependentes apenas das covariáveis $X$ que conseguimos observar, e nenhuma outra. \n",
    "\n",
    "$$(Y_0, Y_1) \\perp T \\; | \\; X$$\n",
    "\n",
    "Fazendo isso, se conseguirmos controlar $X$, por exemplo olhando apenas individuos com mesmo tempo de escolaridade, o nosso resultado vai depender apenas do tratamento dado.\n",
    "\n",
    "Existem diversas formas de controlar as covariaveis na literatura mas não vamos entrar no detalhe de nenhuma delas nesse seminário introdutorio, o pacote **CausalInference** que usamos é equipado com ferramentas dentre elas o **\"Matching Estimator\"** que controla as covariaveis utilizando vizinhos-mais-próximos (NN) para encontrar amostras parecidas.\n",
    "\n",
    "\n",
    "\n"
   ]
  },
  {
   "cell_type": "code",
   "execution_count": 23,
   "metadata": {
    "colab": {
     "base_uri": "https://localhost:8080/"
    },
    "id": "LLVIvF8oKblL",
    "outputId": "7e831b09-8cdd-4bec-ca4d-be4bfd7066b3"
   },
   "outputs": [
    {
     "name": "stdout",
     "output_type": "stream",
     "text": [
      "\n",
      "Treatment Effect Estimates: OLS\n",
      "\n",
      "                     Est.       S.e.          z      P>|z|      [95% Conf. int.]\n",
      "--------------------------------------------------------------------------------\n",
      "           ATE   1636.278    667.157      2.453      0.014    328.649   2943.906\n",
      "\n",
      "Treatment Effect Estimates: Matching\n",
      "\n",
      "                     Est.       S.e.          z      P>|z|      [95% Conf. int.]\n",
      "--------------------------------------------------------------------------------\n",
      "           ATE   2253.399   1091.230      2.065      0.039    114.587   4392.211\n",
      "           ATC   2199.242   1212.127      1.814      0.070   -176.526   4575.010\n",
      "           ATT   2329.511   1258.672      1.851      0.064   -137.487   4796.508\n",
      "\n"
     ]
    },
    {
     "name": "stderr",
     "output_type": "stream",
     "text": [
      "/usr/local/lib/python3.7/dist-packages/causalinference/estimators/matching.py:100: FutureWarning: `rcond` parameter will change to the default of machine precision times ``max(M, N)`` where M and N are the input matrix dimensions.\n",
      "To use the future default and silence this warning we advise to pass `rcond=None`, to keep using the old, explicitly pass `rcond=-1`.\n",
      "  return np.linalg.lstsq(X, Y)[0][1:]  # don't need intercept coef\n"
     ]
    }
   ],
   "source": [
    "causal.est_via_matching(bias_adj=True)\n",
    "print(causal.estimates)"
   ]
  },
  {
   "cell_type": "markdown",
   "metadata": {
    "id": "_9aySlYEKoCX"
   },
   "source": [
    "Utilizando esse pacote vemos que o efeito médio do treinamento foi de $\\$2.253,00$ e temos 95% de confiança que o intervalo de melhora na renda cai entre $\\$114,00$ e $\\$4.575,00$ dólares."
   ]
  },
  {
   "cell_type": "markdown",
   "metadata": {
    "id": "J9hBY0qtLHTU"
   },
   "source": [
    "## **Conclusão**\n",
    "\n",
    "Nesse seminário apresentamos os conceitos fundamentais que permeiam o framework de potential outcomes, passando pelo problema fundamental da inferência causal, discutindo a importância de experimentos aleatórios para medir o efeito do tratamento até métodos para estimar o efeito médio do tratamento com regressão linear e apresentando o pacote causalinference que possui diversos métodos para controle dos \"Cofounders\".\n",
    "\n",
    "A inferência causal não é um campo simples e mesmo usando as técnicas mais sofisticadas para controle dos confundidores nem sempre conseguimos ter um bom resultado, porém o conhecimento de inferência causal nos equipa melhor para podermos conseguir responder perguntas com mais embasamento e ir muito mais além do que apenas máquinas de previsão."
   ]
  },
  {
   "cell_type": "markdown",
   "metadata": {
    "id": "dXTOosGw_3gr"
   },
   "source": [
    "## Referências\n",
    "\n",
    "- https://jonnyphillips.github.io/FLS6415/Class_3/Angrist%20&%20Pischke.pdf\n",
    "- https://en.wikipedia.org/wiki/Rubin_causal_model\n",
    "- https://www.fsb.muohio.edu/lij14/420_paper_Rubin74.pdf\n",
    "- http://users.nber.org/~rdehejia/nswdata2.html"
   ]
  },
  {
   "cell_type": "code",
   "execution_count": null,
   "metadata": {
    "id": "f8Kmn0lvJKtf"
   },
   "outputs": [],
   "source": []
  }
 ],
 "metadata": {
  "colab": {
   "name": "Causal Inference - RUBIN [SME].ipynb",
   "provenance": []
  },
  "kernelspec": {
   "display_name": "Python 3 (ipykernel)",
   "language": "python",
   "name": "python3"
  },
  "language_info": {
   "codemirror_mode": {
    "name": "ipython",
    "version": 3
   },
   "file_extension": ".py",
   "mimetype": "text/x-python",
   "name": "python",
   "nbconvert_exporter": "python",
   "pygments_lexer": "ipython3",
   "version": "3.8.10"
  }
 },
 "nbformat": 4,
 "nbformat_minor": 4
}
