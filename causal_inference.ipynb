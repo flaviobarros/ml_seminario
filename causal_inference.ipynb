{
 "cells": [
  {
   "cell_type": "markdown",
   "metadata": {
    "id": "O9dv1utSVkzk"
   },
   "source": [
    "# **Aprendizado de Máquina Estatístico**\n",
    "## **Seminário - Inferência Causal [Rubin]**\n",
    "#### Integrantes: \n",
    "\n",
    "- Daniel Shinoda Pascoal\n",
    "- Flavio Margarito Martins de Barros\n",
    "- Gabriel Tupinamba da Cunha Leandro"
   ]
  },
  {
   "cell_type": "markdown",
   "metadata": {
    "id": "P19YTp5lYcRb"
   },
   "source": [
    "## Conteúdo:\n",
    "\n",
    "- 1 Introdução\n",
    "- 2 O Modelo Causal de Rubin\n",
    "- 3 Atribuição aleatória\n",
    "- 4 Analise de Regressão de experimentos\n",
    "- 5 Estudo de caso"
   ]
  },
  {
   "cell_type": "markdown",
   "metadata": {
    "id": "Y6Z0omy8bIQw"
   },
   "source": [
    "## **Introdução**"
   ]
  },
  {
   "cell_type": "markdown",
   "metadata": {
    "id": "5-LoY8RJbQ4J"
   },
   "source": [
    "**\"Correlação não é igual a causalidade\"**\n",
    "\n",
    "<br>\n",
    "\n",
    "Essa frase é um mantra na comunidade de estatística e ciência de dados, ela é repetida diversas vezes para nos manter longe da armadilha que é **confundir correlação com causalidade**. A palavra correlação, enquanto tem um significado definido em estatística é usado de forma coloquial na linguagem cotidiana significando, muitas vezes, relação. Entretando a correlação é um tipo especial de \"relação\" uma vez que usualmente, quando esse termo é utilizado, quer se dizer que há uma relação **linear**, assim como na correlação de Pearson. Mas, além de existirem outros tipos de correlações na estatística, como a correlação bisserial por exemplo, o fato de existir uma correlação diferente de zero **não implica** que há uma **relação de fato** entre as variáveis, tampouco que essa relação seja linear. O oposto também: o fato de uma correlação **ser nula não implica que não haja relação entre as variáveis**, uma vez que esta pode ser não linear. A maioria modelos de machine learning utilizados são ótimos para capturar a correlações presente nos dados, mas não nos auxiliam em interpretar o que causa os padrões observados, o que limita nossa capacidade de decisão. \n",
    "\n",
    "<br>\n",
    "\n",
    "Dentro do mundo dos negócios é muito comum perguntas em que se deseja saber se determinado anúncio de marketing trouxe mais vendas na compania, muitas vezes um aumento das vendas pode estar mascarado por uma queda de preço ou de estoque no mercado. Esse problema também é muito comum em outras áreas como medicina onde precisamos entender se determinado tratamento realmente teve o efeito desejado ou na economia onde queremos saber se determinada politica trouxe efeitos positivos na renda dos índividuos. Não basta ter um modelo que seja capaz de produzir ótimas prediçõe, é necessário que, de alguma forma, entendamos as relações causais e sejamos capazes de compreender quais são os mecanismos geradores dos dados.\n",
    "\n",
    "Para ajudar a entender os efeitos causais algumas metodologias tem sido utilizadas na literatura. Nesse documento iremos nos focar na abordagem **\"Potential outcomes\"** de **Donald Rubin**."
   ]
  },
  {
   "cell_type": "markdown",
   "metadata": {
    "id": "C39-H-XXtr2k"
   },
   "source": [
    "## **O Modelo Causal de Rubin**\n",
    "\n",
    "Imagine a seguinte situação, um determinado indivíduo terminou sua graduação, e quando chegou aos seus quarenta anos possuia uma alta remuneração em comparação com a média da população. Caso esse mesmo indivíduo não tivesse terminado a graduação ele teria uma remuneração menor? Não temos como saber a resposta para essa pergunta pois teríamos que voltar ao passado para descobrir o que teria acontecido caso essa mesma pessoa não tivesse concluído essa graduação. Ainda assim, mesmo que fosse possível voltar no tempo e submeter esse indivíduo a um \"tratamento\" diferente, ainda haveria a possibilidade de o resultado ser fruto de situações aleatórias que poderia contribuir ou dificultar a vida desse indivíduo, tal que para realizar um experimento como esse deveríamos repetílo com um número significativo de pessoas. Acreditamos que é óbvio que uma abordagem como essa é impossível na prática, tal que temos que utilizar dados observacionais e a partir deles, utilizando algum método, tentar descobrir quais são as relações causais.\n",
    "\n",
    "<br>\n",
    "\n",
    "No cerne dessa situação encontramos o **\"Problema Fundamental da Inferência Causal\"**, que reside na impossibilidade de observarmos um individuo \"com\" e \"sem\" tratamento ao mesmo tempo. Por isso o **Modelo Causal de Rubin** , também conhecido como **\"Potential Outcomes Model\"** (Modelo de resultados potenciais) lida com a idéia de \"Resultados Potenciais\".\n",
    "\n",
    "<br>\n",
    "\n",
    "### Notação\n",
    "\n",
    "Para contextualizar os conceitos apresentados vamos utilizar o dataset do artigo  de **Robert Lalonde** , *\"Evaluating the Econometric Evaluations of Training Programs\", American Economic Review, Vol. 76, pp. 604-620*, como estudo de caso, nesse estudo ele avalia o efeito de determinado treinamento no salário de dois grupos de indivíduos.\n",
    "\n",
    "<br>\n",
    "\n",
    "Vamos definir formalmente o conceito de \"potential outcomes\": denotemos como $\\mathbf{T}$ o efeito do tratamento, que no nosso caso será se o índivíduo teve treinamento ou não, nesse caso $\\mathbf{T}$ será uma variável binária $\\mathbf{T(i)} = \\mathbb{1(i)}_{\\text{{1,0}}} $. \n",
    "\n",
    "<br>\n",
    "Potential Outcomes: \n",
    "\n",
    "$\n",
    "Y_{ti}=\\begin{cases}\n",
    "t=1 \\ , \\text{se o individuo i recebeu o tratamento}\\\\\n",
    "t= 0 \\ , \\text{caso contrario}\\\\\n",
    "\\end{cases}\n",
    "$\n",
    "\n",
    "Ou de maneira mais geral : $Y_{0i} + (Y_{1i} - Y_{0i})T_i$\n",
    "\n",
    "<br>\n",
    "\n",
    "Dessa forma supomos que o individuo i tivesse recebido o treinamento, com isso teriamos o resultado potencial $Y_{1i}$ que representa sua remuneração após o tratamento, já $Y_{0i}$ seria o resultado potencial caso esse mesmo indivíduo não tivesse recebido o treinamento, que nesse caso seria um \"salário imaginário\" uma vez que não temos como saber o verdadeiro resultado, também podemos chamar $Y_{0i}$ de **Contrafactual**.\n",
    "\n",
    "<br>\n",
    "\n",
    "### Efeito Médio do Tratamento \n",
    "\n",
    "<br>\n",
    "\n",
    "Essa notação é importante pois com ela podemos estabelecer que $Y_{1i} - Y_{0i}$  seria o efeito causado pelo treinamento no indivíduo i.\n",
    "\n",
    "Dessa forma definiremos o **Efeito Médio do Tratamento** (EMT) dos indivíduos como:\n",
    "\n",
    "- \\\\(EMT = E[Y_{1i} - Y_{0i}]\\\\)\n",
    "\n",
    "\n",
    "Também vamos definir como **Efeito Médio do Tratamento nos Tratados** (EMTT) o efeito médio do tratamento condicionado apenas nos indivíduos que receberam treinamento. \n",
    "\n",
    "- \\\\(EMTT = E[Y_{1i} - Y_{0i} | T=1]\\\\)\n",
    "\n",
    "<br>\n",
    "\n",
    "## **Atribuição aleatória e o viés de seleção**\n",
    "\n",
    "É claro que as equações acima são apenas **hipotéticas**, não temos como obter esses resultados pois não podemos voltar no passado. Uma suposição ingênua seria estimar o efeito causado pelo treinamento subtraindo o salario dos individuos que receberam treinamento daqueles que não receberam treinamento (grupo controle), umas vez que o único resultado potencial que de fato temos acesso (observamos o efeito) é $E[Y_{1i}|T=1]$ e $E[Y_{0i}|T=0]$ em outras palavras seria assumir $E[Y_{1i}|T=1] - E[Y_{0i}|T=0]$ como o efeito causado pelo treinamento.\n",
    "\n",
    "<br>\n",
    "\n",
    "A demonstração abaixo nos mostra o problema dessa abordagem ingênua, se somarmos e subtrairmos o contrafactual $E[Y_{0i}|T=1]$ na nossa equação, teremos:\n",
    "\n",
    "$\n",
    "E[Y_{1i}|T=1] - E[Y_{0i}|T=0] = E[Y_{1i}|T=1] - E[Y_{0i}|T=0] +E[Y_{0i}|T=1] - E[Y_{0i}|T=1]\n",
    "$\n",
    "\n",
    "$\n",
    "E[Y_{1i}|T=1] - E[Y_{0i}|T=0] = \\underbrace{E[Y_{1i} - Y_{0i}|T=1]}_{EMTT } + \\underbrace{\\{ E[Y_{0i}|T=1] - E[Y_{0i}|T=0] \\}}_{Viés}\n",
    "$\n",
    "\n",
    "Ou seja subtrair o resultado observado do grupo tratado com o resultado observado do grupo não tratado é igual ao efeito médio do tratamento nos tratados, que queremos descobrir, mais o **viés de seleção**, que é o efeito de não fazer nada em ambos os grupos.\n",
    "\n",
    "No nosso exemplo um possivel viés de seleção seria selecionar para o treinamento $T=1$, grupos que naturalmente já teriam um salario melhor mesmo sem treinamento, por exemplo por terem ido a faculdade e no grupo sem treinamento $T=0$, indivíduos que não completaram a faculdade.\n",
    "\n",
    "<br>\n",
    "\n",
    "### Atribuição aleatória\n",
    "\n",
    "A grande sacada aqui é que caso o viés de seleção seja zero ou próximo de zero, a difença do efeito do grupo com treinamento e sem treinamento de fato será igual ao efeito médio do tratamento no grupo tratado (EMTT).\n",
    "\n",
    "Dessa maneira selecionando aleatoriamente os dois grupos de indivíduos, o viés seria reduzido a zero e com isso:\n",
    "\n",
    "$\n",
    "E[Y_{1i}|T=1] - E[Y_{0i}|T=0] = E[Y_{1i} - Y_{0i}|T=1] = EMTT\n",
    "$\n",
    "\n",
    "<br>\n",
    "\n",
    "## **Análise de Regressão dos Experimentos**\n",
    "\n",
    "Nós podemos remodelar a nossa equação de potential outcomes $Y_{0i} + (Y_{1i} - Y_{0i})T_i$ como um problema de regressão, somando e subtraindo $E[Y_{0i}]$ temos:\n",
    "\n",
    "$$\n",
    "Y_i = \\underbrace{\\alpha}_{E[Y_{0i}]} + \\underbrace{\\rho}_{Y_{1i} - Y_{0i}}T_i + \\underbrace{\\eta}_{Y_{0i}-E[Y_{0i}]}\n",
    "$$\n",
    "\n",
    "Aplicando o valor esperado para os grupos tratamento e controle:\n",
    "\n",
    "$ E[Y_i |T_i = 1] = \\alpha + \\rho + E[\\eta_i|T_i=1]$\n",
    "\n",
    "$ E[Y_i |T_i = 0] = \\alpha + E[\\eta_i|T_i=0]$\n",
    "\n",
    "Então:\n",
    "\n",
    "$\n",
    "E[Y_{i}|T=1] - E[Y_{i}|T=0] = \\rho + \\underbrace{\\{ E[\\eta_i|T=1] - E[\\eta_i|T=0] \\}}_{Viés}\n",
    "$\n",
    "\n",
    "Dessa maneira se a atribuição for aleatória, eliminamos o viés de seleção e teremos: \n",
    "\n",
    "$E[Y_{i}|T=1] - E[Y_{i}|T=0] = \\rho $\n",
    "\n",
    "Isso nos fornece uma valiosa ferramenta, uma vez que ao calcular uma simples regressão linear nosso coeficiente $\\rho$ será igual ao efeito médio do tratamento."
   ]
  },
  {
   "cell_type": "markdown",
   "metadata": {
    "id": "l3-_VBns4W0j"
   },
   "source": [
    "## **Estudo de Caso**\n",
    "\n",
    "Como mencionado acima, esse dataset foi utilizado pelo economista Robert Lalonde, onde ele analisou o efeito de determinado treinamento na renda de um grupo de individuos, no ano de 1975 e em 1978 após o treinamento, parte do grupo recebeu o treinamento (Tratados) e o outro não (Controle).\n",
    "\n",
    "O dataset é composto pelas covariáveis: \n",
    "\n",
    "- 'treatment_indicator', 1 se tratado 0 se não\n",
    "- 'age', idade\n",
    "- 'education', anos de escolaridade\n",
    "- 'Black', 1 se negro e 0 se não\n",
    "- 'Hispanic', 1 se hispanico e 0 se não\n",
    "- 'Married', 1 se casado, 0 se não\n",
    "- 'nodegree', 1 se cursou ensino superior, 0 se não\n",
    "- 'RE75', renda em 1975\n",
    "- 'RE78', renda em 1978\n",
    "\n"
   ]
  },
  {
   "cell_type": "code",
   "execution_count": 10,
   "metadata": {
    "colab": {
     "base_uri": "https://localhost:8080/"
    },
    "id": "RsTi673_VQ-e",
    "outputId": "6232e320-a3bd-429f-adc9-b09f2dc23047"
   },
   "outputs": [
    {
     "name": "stdout",
     "output_type": "stream",
     "text": [
      "Drive already mounted at /content/drive; to attempt to forcibly remount, call drive.mount(\"/content/drive\", force_remount=True).\n"
     ]
    },
    {
     "name": "stderr",
     "output_type": "stream",
     "text": [
      "/usr/local/lib/python3.7/dist-packages/ipykernel_launcher.py:8: ParserWarning: Falling back to the 'python' engine because the 'c' engine does not support regex separators (separators > 1 char and different from '\\s+' are interpreted as regex); you can avoid this warning by specifying engine='python'.\n",
      "  \n",
      "/usr/local/lib/python3.7/dist-packages/ipykernel_launcher.py:11: ParserWarning: Falling back to the 'python' engine because the 'c' engine does not support regex separators (separators > 1 char and different from '\\s+' are interpreted as regex); you can avoid this warning by specifying engine='python'.\n",
      "  # This is added back by InteractiveShellApp.init_path()\n"
     ]
    }
   ],
   "source": [
    "import numpy as np\n",
    "import pandas as pd\n",
    "\n",
    "from google.colab import drive\n",
    "drive.mount('/content/drive')\n",
    "#df = pd.read_csv(\"TMDb_updated.CSV\")\n",
    "\n",
    "df_control = pd.read_csv(\"/content/drive/MyDrive/Colab Notebooks/Aprend Maq Est/nsw_control.txt\", sep=\"  \", header=None)\n",
    "df_control.columns= ['treatment_indicator','age','education','Black','Hispanic','Married','nodegree','RE75','RE78']\n",
    "\n",
    "df_treated = pd.read_csv(\"/content/drive/MyDrive/Colab Notebooks/Aprend Maq Est/nsw_treated.txt\", sep=\"  \", header=None)\n",
    "df_treated.columns= ['treatment_indicator','age','education','Black','Hispanic','Married','nodegree','RE75','RE78']\n",
    "\n",
    "df = pd.concat([df_control, df_treated])\n",
    "\n",
    "#df_control = pd.read_csv(\"/content/drive/MyDrive/Colab Notebooks/Aprend Maq Est/nswre74_control.txt\", sep=\"  \", header=None)\n",
    "#df_control.columns= ['treatment_indicator','age','education','Black','Hispanic','Married','nodegree','RE74','RE75','RE78']\n",
    "\n",
    "#df_treated = pd.read_csv(\"/content/drive/MyDrive/Colab Notebooks/Aprend Maq Est/nswre74_treated.txt\", sep=\"  \", header=None)\n",
    "#df_treated.columns= ['treatment_indicator','age','education','Black','Hispanic','Married','nodegree','RE74','RE75','RE78']\n",
    "#df = pd.concat([df_control, df_treated])\n",
    "\n"
   ]
  },
  {
   "cell_type": "code",
   "execution_count": 12,
   "metadata": {
    "colab": {
     "base_uri": "https://localhost:8080/",
     "height": 142
    },
    "id": "4oVlf1CI7AEH",
    "outputId": "c36b90d4-4e6c-4d23-e5bc-eb3ce838a7be"
   },
   "outputs": [
    {
     "data": {
      "text/html": [
       "<div>\n",
       "<style scoped>\n",
       "    .dataframe tbody tr th:only-of-type {\n",
       "        vertical-align: middle;\n",
       "    }\n",
       "\n",
       "    .dataframe tbody tr th {\n",
       "        vertical-align: top;\n",
       "    }\n",
       "\n",
       "    .dataframe thead th {\n",
       "        text-align: right;\n",
       "    }\n",
       "</style>\n",
       "<table border=\"1\" class=\"dataframe\">\n",
       "  <thead>\n",
       "    <tr style=\"text-align: right;\">\n",
       "      <th></th>\n",
       "      <th>median</th>\n",
       "      <th>mean</th>\n",
       "    </tr>\n",
       "    <tr>\n",
       "      <th>treatment_indicator</th>\n",
       "      <th></th>\n",
       "      <th></th>\n",
       "    </tr>\n",
       "  </thead>\n",
       "  <tbody>\n",
       "    <tr>\n",
       "      <th>0.0</th>\n",
       "      <td>3746.701</td>\n",
       "      <td>5090.048302</td>\n",
       "    </tr>\n",
       "    <tr>\n",
       "      <th>1.0</th>\n",
       "      <td>4232.309</td>\n",
       "      <td>5976.352033</td>\n",
       "    </tr>\n",
       "  </tbody>\n",
       "</table>\n",
       "</div>"
      ],
      "text/plain": [
       "                       median         mean\n",
       "treatment_indicator                       \n",
       "0.0                  3746.701  5090.048302\n",
       "1.0                  4232.309  5976.352033"
      ]
     },
     "execution_count": 12,
     "metadata": {},
     "output_type": "execute_result"
    }
   ],
   "source": [
    "df.groupby('treatment_indicator')['RE78'].agg(['median','mean'])"
   ]
  },
  {
   "cell_type": "markdown",
   "metadata": {
    "id": "AVbdayu7FK26"
   },
   "source": [
    "Como podemos ver, apenas agregando os dados aparentemente o grupo que recebeu o tratamento tiveram uma renda maior em 1978 do que o grupo que não foi tratado."
   ]
  },
  {
   "cell_type": "code",
   "execution_count": 18,
   "metadata": {
    "colab": {
     "base_uri": "https://localhost:8080/"
    },
    "id": "QGV-bXAfHqWq",
    "outputId": "cc4f163a-e220-42a5-a572-c0a9968a983e"
   },
   "outputs": [
    {
     "data": {
      "text/plain": [
       "treatment_indicator\n",
       "0.0    260\n",
       "1.0    185\n",
       "Name: RE78, dtype: int64"
      ]
     },
     "execution_count": 18,
     "metadata": {},
     "output_type": "execute_result"
    }
   ],
   "source": [
    "df.groupby('treatment_indicator')['RE78'].count()"
   ]
  },
  {
   "cell_type": "code",
   "execution_count": 21,
   "metadata": {
    "colab": {
     "base_uri": "https://localhost:8080/",
     "height": 242
    },
    "id": "3J03qjLVEyKC",
    "outputId": "dc872050-cf08-4894-b7ec-964e2ef9d215"
   },
   "outputs": [
    {
     "data": {
      "text/plain": [
       "<seaborn.axisgrid.FacetGrid at 0x7f703b105510>"
      ]
     },
     "execution_count": 21,
     "metadata": {},
     "output_type": "execute_result"
    },
    {
     "data": {
      "image/png": "[encoded data removed]",
      "text/plain": [
       "<Figure size 971x216 with 1 Axes>"
      ]
     },
     "metadata": {
      "needs_background": "light"
     },
     "output_type": "display_data"
    }
   ],
   "source": [
    "import matplotlib.pyplot as plt\n",
    "import seaborn as sns\n",
    "\n",
    "a = sns.FacetGrid( df, hue = 'treatment_indicator', aspect=4)\n",
    "a.map(sns.kdeplot, 'RE78', shade= True )\n",
    "a.set(xlim=(0 , df['RE78'].max()))\n",
    "a.add_legend()"
   ]
  },
  {
   "cell_type": "markdown",
   "metadata": {
    "id": "rEcXCaCvH-4R"
   },
   "source": [
    "Como podemos ver, esse dataset não está balanceado, temos muito mais pessoas sem tratamento, além disso as pessoas sem tratamento estão mais concentradas na faixa de renda inferior."
   ]
  },
  {
   "cell_type": "code",
   "execution_count": 22,
   "metadata": {
    "colab": {
     "base_uri": "https://localhost:8080/",
     "height": 242
    },
    "id": "aUNHgZaPI0nq",
    "outputId": "7ba0153d-99ef-49cd-c57a-38c6c0429ea7"
   },
   "outputs": [
    {
     "data": {
      "text/plain": [
       "<seaborn.axisgrid.FacetGrid at 0x7f703b0cc110>"
      ]
     },
     "execution_count": 22,
     "metadata": {},
     "output_type": "execute_result"
    },
    {
     "data": {
      "image/png": "[encoded data removed]",
      "text/plain": [
       "<Figure size 971x216 with 1 Axes>"
      ]
     },
     "metadata": {
      "needs_background": "light"
     },
     "output_type": "display_data"
    }
   ],
   "source": [
    "a = sns.FacetGrid( df, hue = 'treatment_indicator', aspect=4)\n",
    "a.map(sns.kdeplot, 'RE75', shade= True )\n",
    "a.set(xlim=(0 , df['RE75'].max()))\n",
    "a.add_legend()"
   ]
  },
  {
   "cell_type": "markdown",
   "metadata": {
    "id": "-vwUGeZaJIIT"
   },
   "source": [
    "Mesmo no ponto de partida do estudo, a renda em 1975 do grupo controle já era mais concentrada na faixa inferior no grupo controle"
   ]
  },
  {
   "cell_type": "code",
   "execution_count": 24,
   "metadata": {
    "colab": {
     "base_uri": "https://localhost:8080/",
     "height": 242
    },
    "id": "s2dc4hOeEyM0",
    "outputId": "efbb2744-271d-4b18-8373-e5405b2b1795"
   },
   "outputs": [
    {
     "data": {
      "text/plain": [
       "<seaborn.axisgrid.FacetGrid at 0x7f703af57cd0>"
      ]
     },
     "execution_count": 24,
     "metadata": {},
     "output_type": "execute_result"
    },
    {
     "data": {
      "image/png": "[encoded data removed]",
      "text/plain": [
       "<Figure size 971x216 with 1 Axes>"
      ]
     },
     "metadata": {
      "needs_background": "light"
     },
     "output_type": "display_data"
    }
   ],
   "source": [
    "a = sns.FacetGrid( df, hue = 'treatment_indicator', aspect=4)\n",
    "a.map(sns.kdeplot, 'education', shade= True )\n",
    "a.set(xlim=(0 , df['education'].max()))\n",
    "a.add_legend()"
   ]
  },
  {
   "cell_type": "markdown",
   "metadata": {
    "id": "EFOaYMD-KQ47"
   },
   "source": [
    "Como podemos ver o grupo tratado possui mais anos de educação do que aqueles do grupo controle."
   ]
  },
  {
   "cell_type": "markdown",
   "metadata": {
    "id": "dXTOosGw_3gr"
   },
   "source": [
    "## Referências\n",
    "\n",
    "- https://en.wikipedia.org/wiki/Rubin_causal_model\n",
    "- https://jonnyphillips.github.io/FLS6415/Class_3/Angrist%20&%20Pischke.pdf"
   ]
  },
  {
   "cell_type": "code",
   "execution_count": null,
   "metadata": {
    "id": "f8Kmn0lvJKtf"
   },
   "outputs": [],
   "source": []
  }
 ],
 "metadata": {
  "colab": {
   "name": "Causal Inference - RUBIN [SME].ipynb",
   "provenance": []
  },
  "kernelspec": {
   "display_name": "Python 3 (ipykernel)",
   "language": "python",
   "name": "python3"
  },
  "language_info": {
   "codemirror_mode": {
    "name": "ipython",
    "version": 3
   },
   "file_extension": ".py",
   "mimetype": "text/x-python",
   "name": "python",
   "nbconvert_exporter": "python",
   "pygments_lexer": "ipython3",
   "version": "3.8.10"
  }
 },
 "nbformat": 4,
 "nbformat_minor": 4
}
